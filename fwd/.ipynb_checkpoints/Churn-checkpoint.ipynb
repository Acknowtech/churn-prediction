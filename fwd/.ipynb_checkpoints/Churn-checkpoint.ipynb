{
 "cells": [
  {
   "cell_type": "code",
   "execution_count": 2,
   "metadata": {},
   "outputs": [],
   "source": [
    "import numpy as np\n",
    "import pandas as pd\n",
    "import matplotlib.pyplot as plt\n",
    "import seaborn as sns"
   ]
  },
  {
   "cell_type": "code",
   "execution_count": 3,
   "metadata": {
    "scrolled": false
   },
   "outputs": [
    {
     "data": {
      "text/html": [
       "<div>\n",
       "<style scoped>\n",
       "    .dataframe tbody tr th:only-of-type {\n",
       "        vertical-align: middle;\n",
       "    }\n",
       "\n",
       "    .dataframe tbody tr th {\n",
       "        vertical-align: top;\n",
       "    }\n",
       "\n",
       "    .dataframe thead th {\n",
       "        text-align: right;\n",
       "    }\n",
       "</style>\n",
       "<table border=\"1\" class=\"dataframe\">\n",
       "  <thead>\n",
       "    <tr style=\"text-align: right;\">\n",
       "      <th></th>\n",
       "      <th>State</th>\n",
       "      <th>Account Length</th>\n",
       "      <th>Area Code</th>\n",
       "      <th>Phone</th>\n",
       "      <th>Int'l Plan</th>\n",
       "      <th>VMail Plan</th>\n",
       "      <th>VMail Message</th>\n",
       "      <th>Day Mins</th>\n",
       "      <th>Day Calls</th>\n",
       "      <th>Day Charge</th>\n",
       "      <th>...</th>\n",
       "      <th>Eve Calls</th>\n",
       "      <th>Eve Charge</th>\n",
       "      <th>Night Mins</th>\n",
       "      <th>Night Calls</th>\n",
       "      <th>Night Charge</th>\n",
       "      <th>Intl Mins</th>\n",
       "      <th>Intl Calls</th>\n",
       "      <th>Intl Charge</th>\n",
       "      <th>CustServ Calls</th>\n",
       "      <th>churn</th>\n",
       "    </tr>\n",
       "  </thead>\n",
       "  <tbody>\n",
       "    <tr>\n",
       "      <th>0</th>\n",
       "      <td>KS</td>\n",
       "      <td>128</td>\n",
       "      <td>415</td>\n",
       "      <td>382-4657</td>\n",
       "      <td>no</td>\n",
       "      <td>yes</td>\n",
       "      <td>25</td>\n",
       "      <td>265.1</td>\n",
       "      <td>110</td>\n",
       "      <td>45.07</td>\n",
       "      <td>...</td>\n",
       "      <td>99</td>\n",
       "      <td>16.78</td>\n",
       "      <td>244.7</td>\n",
       "      <td>91</td>\n",
       "      <td>11.01</td>\n",
       "      <td>10.0</td>\n",
       "      <td>3</td>\n",
       "      <td>2.70</td>\n",
       "      <td>1</td>\n",
       "      <td>False.</td>\n",
       "    </tr>\n",
       "    <tr>\n",
       "      <th>1</th>\n",
       "      <td>OH</td>\n",
       "      <td>107</td>\n",
       "      <td>415</td>\n",
       "      <td>371-7191</td>\n",
       "      <td>no</td>\n",
       "      <td>yes</td>\n",
       "      <td>26</td>\n",
       "      <td>161.6</td>\n",
       "      <td>123</td>\n",
       "      <td>27.47</td>\n",
       "      <td>...</td>\n",
       "      <td>103</td>\n",
       "      <td>16.62</td>\n",
       "      <td>254.4</td>\n",
       "      <td>103</td>\n",
       "      <td>11.45</td>\n",
       "      <td>13.7</td>\n",
       "      <td>3</td>\n",
       "      <td>3.70</td>\n",
       "      <td>1</td>\n",
       "      <td>False.</td>\n",
       "    </tr>\n",
       "    <tr>\n",
       "      <th>2</th>\n",
       "      <td>NJ</td>\n",
       "      <td>137</td>\n",
       "      <td>415</td>\n",
       "      <td>358-1921</td>\n",
       "      <td>no</td>\n",
       "      <td>no</td>\n",
       "      <td>0</td>\n",
       "      <td>243.4</td>\n",
       "      <td>114</td>\n",
       "      <td>41.38</td>\n",
       "      <td>...</td>\n",
       "      <td>110</td>\n",
       "      <td>10.30</td>\n",
       "      <td>162.6</td>\n",
       "      <td>104</td>\n",
       "      <td>7.32</td>\n",
       "      <td>12.2</td>\n",
       "      <td>5</td>\n",
       "      <td>3.29</td>\n",
       "      <td>0</td>\n",
       "      <td>False.</td>\n",
       "    </tr>\n",
       "    <tr>\n",
       "      <th>3</th>\n",
       "      <td>OH</td>\n",
       "      <td>84</td>\n",
       "      <td>408</td>\n",
       "      <td>375-9999</td>\n",
       "      <td>yes</td>\n",
       "      <td>no</td>\n",
       "      <td>0</td>\n",
       "      <td>299.4</td>\n",
       "      <td>71</td>\n",
       "      <td>50.90</td>\n",
       "      <td>...</td>\n",
       "      <td>88</td>\n",
       "      <td>5.26</td>\n",
       "      <td>196.9</td>\n",
       "      <td>89</td>\n",
       "      <td>8.86</td>\n",
       "      <td>6.6</td>\n",
       "      <td>7</td>\n",
       "      <td>1.78</td>\n",
       "      <td>2</td>\n",
       "      <td>False.</td>\n",
       "    </tr>\n",
       "    <tr>\n",
       "      <th>4</th>\n",
       "      <td>OK</td>\n",
       "      <td>75</td>\n",
       "      <td>415</td>\n",
       "      <td>330-6626</td>\n",
       "      <td>yes</td>\n",
       "      <td>no</td>\n",
       "      <td>0</td>\n",
       "      <td>166.7</td>\n",
       "      <td>113</td>\n",
       "      <td>28.34</td>\n",
       "      <td>...</td>\n",
       "      <td>122</td>\n",
       "      <td>12.61</td>\n",
       "      <td>186.9</td>\n",
       "      <td>121</td>\n",
       "      <td>8.41</td>\n",
       "      <td>10.1</td>\n",
       "      <td>3</td>\n",
       "      <td>2.73</td>\n",
       "      <td>3</td>\n",
       "      <td>False.</td>\n",
       "    </tr>\n",
       "  </tbody>\n",
       "</table>\n",
       "<p>5 rows × 21 columns</p>\n",
       "</div>"
      ],
      "text/plain": [
       "  State  Account Length  Area Code     Phone Int'l Plan VMail Plan  \\\n",
       "0    KS             128        415  382-4657         no        yes   \n",
       "1    OH             107        415  371-7191         no        yes   \n",
       "2    NJ             137        415  358-1921         no         no   \n",
       "3    OH              84        408  375-9999        yes         no   \n",
       "4    OK              75        415  330-6626        yes         no   \n",
       "\n",
       "   VMail Message  Day Mins  Day Calls  Day Charge  ...  Eve Calls  Eve Charge  \\\n",
       "0             25     265.1        110       45.07  ...         99       16.78   \n",
       "1             26     161.6        123       27.47  ...        103       16.62   \n",
       "2              0     243.4        114       41.38  ...        110       10.30   \n",
       "3              0     299.4         71       50.90  ...         88        5.26   \n",
       "4              0     166.7        113       28.34  ...        122       12.61   \n",
       "\n",
       "   Night Mins  Night Calls  Night Charge  Intl Mins  Intl Calls  Intl Charge  \\\n",
       "0       244.7           91         11.01       10.0           3         2.70   \n",
       "1       254.4          103         11.45       13.7           3         3.70   \n",
       "2       162.6          104          7.32       12.2           5         3.29   \n",
       "3       196.9           89          8.86        6.6           7         1.78   \n",
       "4       186.9          121          8.41       10.1           3         2.73   \n",
       "\n",
       "   CustServ Calls   churn  \n",
       "0               1  False.  \n",
       "1               1  False.  \n",
       "2               0  False.  \n",
       "3               2  False.  \n",
       "4               3  False.  \n",
       "\n",
       "[5 rows x 21 columns]"
      ]
     },
     "execution_count": 3,
     "metadata": {},
     "output_type": "execute_result"
    }
   ],
   "source": [
    "churn=pd.read_excel(\"churn.xlsx\")\n",
    "churn.head()"
   ]
  },
  {
   "cell_type": "code",
   "execution_count": 4,
   "metadata": {
    "scrolled": false
   },
   "outputs": [
    {
     "name": "stdout",
     "output_type": "stream",
     "text": [
      "<class 'pandas.core.frame.DataFrame'>\n",
      "RangeIndex: 3333 entries, 0 to 3332\n",
      "Data columns (total 21 columns):\n",
      "State             3333 non-null object\n",
      "Account Length    3333 non-null int64\n",
      "Area Code         3333 non-null int64\n",
      "Phone             3333 non-null object\n",
      "Int'l Plan        3333 non-null object\n",
      "VMail Plan        3333 non-null object\n",
      "VMail Message     3333 non-null int64\n",
      "Day Mins          3333 non-null float64\n",
      "Day Calls         3333 non-null int64\n",
      "Day Charge        3333 non-null float64\n",
      "Eve Mins          3333 non-null float64\n",
      "Eve Calls         3333 non-null int64\n",
      "Eve Charge        3333 non-null float64\n",
      "Night Mins        3333 non-null float64\n",
      "Night Calls       3333 non-null int64\n",
      "Night Charge      3333 non-null float64\n",
      "Intl Mins         3333 non-null float64\n",
      "Intl Calls        3333 non-null int64\n",
      "Intl Charge       3333 non-null float64\n",
      "CustServ Calls    3333 non-null int64\n",
      "churn             3333 non-null object\n",
      "dtypes: float64(8), int64(8), object(5)\n",
      "memory usage: 546.9+ KB\n"
     ]
    }
   ],
   "source": [
    "churn.info()"
   ]
  },
  {
   "cell_type": "code",
   "execution_count": 5,
   "metadata": {},
   "outputs": [
    {
     "data": {
      "text/plain": [
       "Index([], dtype='object')"
      ]
     },
     "execution_count": 5,
     "metadata": {},
     "output_type": "execute_result"
    }
   ],
   "source": [
    "churn.columns[churn.isnull().any()]"
   ]
  },
  {
   "cell_type": "code",
   "execution_count": 6,
   "metadata": {},
   "outputs": [
    {
     "name": "stdout",
     "output_type": "stream",
     "text": [
      "There are 16 numeric and 5 categorical columns in churn data\n"
     ]
    }
   ],
   "source": [
    "print(\"There are {} numeric and {} categorical columns in churn data\".format(churn.select_dtypes(include=[np.number]).shape[1],churn.select_dtypes(exclude=[np.number]).shape[1]))"
   ]
  },
  {
   "cell_type": "code",
   "execution_count": 7,
   "metadata": {},
   "outputs": [
    {
     "data": {
      "text/html": [
       "<div>\n",
       "<style scoped>\n",
       "    .dataframe tbody tr th:only-of-type {\n",
       "        vertical-align: middle;\n",
       "    }\n",
       "\n",
       "    .dataframe tbody tr th {\n",
       "        vertical-align: top;\n",
       "    }\n",
       "\n",
       "    .dataframe thead th {\n",
       "        text-align: right;\n",
       "    }\n",
       "</style>\n",
       "<table border=\"1\" class=\"dataframe\">\n",
       "  <thead>\n",
       "    <tr style=\"text-align: right;\">\n",
       "      <th></th>\n",
       "      <th>State</th>\n",
       "      <th>Phone</th>\n",
       "      <th>Int'l Plan</th>\n",
       "      <th>VMail Plan</th>\n",
       "      <th>churn</th>\n",
       "    </tr>\n",
       "  </thead>\n",
       "  <tbody>\n",
       "    <tr>\n",
       "      <th>0</th>\n",
       "      <td>KS</td>\n",
       "      <td>382-4657</td>\n",
       "      <td>no</td>\n",
       "      <td>yes</td>\n",
       "      <td>False.</td>\n",
       "    </tr>\n",
       "    <tr>\n",
       "      <th>1</th>\n",
       "      <td>OH</td>\n",
       "      <td>371-7191</td>\n",
       "      <td>no</td>\n",
       "      <td>yes</td>\n",
       "      <td>False.</td>\n",
       "    </tr>\n",
       "    <tr>\n",
       "      <th>2</th>\n",
       "      <td>NJ</td>\n",
       "      <td>358-1921</td>\n",
       "      <td>no</td>\n",
       "      <td>no</td>\n",
       "      <td>False.</td>\n",
       "    </tr>\n",
       "    <tr>\n",
       "      <th>3</th>\n",
       "      <td>OH</td>\n",
       "      <td>375-9999</td>\n",
       "      <td>yes</td>\n",
       "      <td>no</td>\n",
       "      <td>False.</td>\n",
       "    </tr>\n",
       "    <tr>\n",
       "      <th>4</th>\n",
       "      <td>OK</td>\n",
       "      <td>330-6626</td>\n",
       "      <td>yes</td>\n",
       "      <td>no</td>\n",
       "      <td>False.</td>\n",
       "    </tr>\n",
       "  </tbody>\n",
       "</table>\n",
       "</div>"
      ],
      "text/plain": [
       "  State     Phone Int'l Plan VMail Plan   churn\n",
       "0    KS  382-4657         no        yes  False.\n",
       "1    OH  371-7191         no        yes  False.\n",
       "2    NJ  358-1921         no         no  False.\n",
       "3    OH  375-9999        yes         no  False.\n",
       "4    OK  330-6626        yes         no  False."
      ]
     },
     "execution_count": 7,
     "metadata": {},
     "output_type": "execute_result"
    }
   ],
   "source": [
    "churn.select_dtypes(exclude=[np.number]).head()"
   ]
  },
  {
   "cell_type": "code",
   "execution_count": 10,
   "metadata": {
    "scrolled": true
   },
   "outputs": [
    {
     "data": {
      "text/plain": [
       "(array(['no', 'no', 'no', ..., 'no', 'yes', 'no'], dtype=object),\n",
       " array(['False.', 'False.', 'False.', 'False.', 'False.'], dtype=object))"
      ]
     },
     "execution_count": 10,
     "metadata": {},
     "output_type": "execute_result"
    }
   ],
   "source": [
    "X=churn.iloc[:,4:20].values\n",
    "Y=churn.iloc[:, 20].values\n",
    "X[:, 0], Y[:5]"
   ]
  },
  {
   "cell_type": "code",
   "execution_count": 11,
   "metadata": {},
   "outputs": [
    {
     "data": {
      "text/plain": [
       "(array([0, 0, 0, ..., 0, 1, 0], dtype=object),\n",
       " array([1, 1, 0, ..., 0, 0, 1], dtype=object),\n",
       " array([0, 0, 0, ..., 0, 0, 0]))"
      ]
     },
     "execution_count": 11,
     "metadata": {},
     "output_type": "execute_result"
    }
   ],
   "source": [
    "from sklearn.preprocessing import LabelEncoder\n",
    "labelencoder_X_1 = LabelEncoder()\n",
    "X[:, 0] = labelencoder_X_1.fit_transform(X[:, 0])\n",
    "labelencoder_X_2 = LabelEncoder()\n",
    "X[:, 1] = labelencoder_X_2.fit_transform(X[:, 1])\n",
    "labelencoder_Y=LabelEncoder()\n",
    "Y=labelencoder_Y.fit_transform(Y)\n",
    "X[:, 0], X[:, 1], Y"
   ]
  },
  {
   "cell_type": "code",
   "execution_count": 12,
   "metadata": {
    "scrolled": false
   },
   "outputs": [
    {
     "data": {
      "text/plain": [
       "<matplotlib.axes._subplots.AxesSubplot at 0x7f864ee99588>"
      ]
     },
     "execution_count": 12,
     "metadata": {},
     "output_type": "execute_result"
    },
    {
     "data": {
      "image/png": "[encoded data removed]",
      "text/plain": [
       "<Figure size 432x288 with 2 Axes>"
      ]
     },
     "metadata": {
      "needs_background": "light"
     },
     "output_type": "display_data"
    }
   ],
   "source": [
    "cor=churn.corr()\n",
    "sns.heatmap(cor)"
   ]
  },
  {
   "cell_type": "code",
   "execution_count": 13,
   "metadata": {},
   "outputs": [
    {
     "data": {
      "text/plain": [
       "array([[-0.32758048,  1.6170861 ,  1.23488274, ..., -0.60119509,\n",
       "        -0.0856905 , -0.42793202],\n",
       "       [-0.32758048,  1.6170861 ,  1.30794844, ..., -0.60119509,\n",
       "         1.2411686 , -0.42793202],\n",
       "       [-0.32758048, -0.61839626, -0.59175986, ...,  0.21153386,\n",
       "         0.69715637, -1.1882185 ],\n",
       "       ...,\n",
       "       [-0.32758048, -0.61839626, -0.59175986, ...,  0.61789834,\n",
       "         1.3871231 ,  0.33235445],\n",
       "       [ 3.05268496, -0.61839626, -0.59175986, ...,  2.24335625,\n",
       "        -1.87695028,  0.33235445],\n",
       "       [-0.32758048,  1.6170861 ,  1.23488274, ..., -0.19483061,\n",
       "         1.2411686 , -1.1882185 ]])"
      ]
     },
     "execution_count": 13,
     "metadata": {},
     "output_type": "execute_result"
    }
   ],
   "source": [
    "from sklearn.preprocessing import StandardScaler\n",
    "sc=StandardScaler()\n",
    "X=sc.fit_transform(X)\n",
    "X"
   ]
  },
  {
   "cell_type": "code",
   "execution_count": 15,
   "metadata": {},
   "outputs": [],
   "source": [
    "#importing labrararies for Artifical Neural network\n",
    "from keras.models import Sequential\n",
    "from keras.layers import Dense\n",
    "from keras.layers import Dropout\n",
    "from keras import regularizers"
   ]
  },
  {
   "cell_type": "code",
   "execution_count": 17,
   "metadata": {},
   "outputs": [],
   "source": [
    "clf=Sequential()"
   ]
  },
  {
   "cell_type": "code",
   "execution_count": 19,
   "metadata": {},
   "outputs": [],
   "source": [
    "#adding layers to ANN\n",
    "clf.add(Dense(units=24,activation=\"relu\",kernel_initializer=\"uniform\",kernel_regularizer=regularizers.l2(0.001),input_dim=16, output_dim=24))\n",
    "\n",
    "#adding two more hidden layer to ANN\n",
    "clf.add(Dense(units=24,activation=\"relu\",kernel_initializer=\"uniform\",kernel_regularizer=regularizers.l2(0.001), output_dim=16))\n",
    "clf.add(Dense(units=24,activation=\"relu\",kernel_initializer=\"uniform\",kernel_regularizer=regularizers.l2(0.001), output_dim=1))\n",
    "\n",
    "#adding output layer\n",
    "clf.add(Dense(units=1,activation=\"sigmoid\",kernel_initializer=\"uniform\"))\n",
    "\n",
    "#compiling ANN\n",
    "clf.compile(optimizer='adam',loss='binary_crossentropy',metrics=['accuracy'])\n"
   ]
  },
  {
   "cell_type": "code",
   "execution_count": 21,
   "metadata": {},
   "outputs": [
    {
     "name": "stdout",
     "output_type": "stream",
     "text": [
      "_________________________________________________________________\n",
      "Layer (type)                 Output Shape              Param #   \n",
      "=================================================================\n",
      "dense_1 (Dense)              (None, 24)                408       \n",
      "_________________________________________________________________\n",
      "dense_2 (Dense)              (None, 24)                600       \n",
      "_________________________________________________________________\n",
      "dense_3 (Dense)              (None, 24)                600       \n",
      "_________________________________________________________________\n",
      "dense_4 (Dense)              (None, 1)                 25        \n",
      "_________________________________________________________________\n",
      "dense_5 (Dense)              (None, 24)                48        \n",
      "_________________________________________________________________\n",
      "dense_6 (Dense)              (None, 24)                600       \n",
      "_________________________________________________________________\n",
      "dense_7 (Dense)              (None, 24)                600       \n",
      "_________________________________________________________________\n",
      "dense_8 (Dense)              (None, 1)                 25        \n",
      "=================================================================\n",
      "Total params: 2,906\n",
      "Trainable params: 2,906\n",
      "Non-trainable params: 0\n",
      "_________________________________________________________________\n"
     ]
    }
   ],
   "source": [
    "clf.summary()"
   ]
  },
  {
   "cell_type": "code",
   "execution_count": 22,
   "metadata": {
    "scrolled": true
   },
   "outputs": [
    {
     "name": "stdout",
     "output_type": "stream",
     "text": [
      "WARNING:tensorflow:From /home/hrishib/anaconda3/lib/python3.7/site-packages/keras/backend/tensorflow_backend.py:986: The name tf.assign_add is deprecated. Please use tf.compat.v1.assign_add instead.\n",
      "\n",
      "Epoch 1/250\n",
      "3333/3333 [==============================] - 3s 998us/step - loss: 0.5262 - acc: 0.8551\n",
      "Epoch 2/250\n",
      "3333/3333 [==============================] - 1s 279us/step - loss: 0.4196 - acc: 0.8551\n",
      "Epoch 3/250\n",
      "3333/3333 [==============================] - 1s 316us/step - loss: 0.4192 - acc: 0.8551\n",
      "Epoch 4/250\n",
      "3333/3333 [==============================] - 1s 330us/step - loss: 0.4185 - acc: 0.8551\n",
      "Epoch 5/250\n",
      "3333/3333 [==============================] - 1s 310us/step - loss: 0.4192 - acc: 0.8551\n",
      "Epoch 6/250\n",
      "3333/3333 [==============================] - 1s 328us/step - loss: 0.4187 - acc: 0.8551\n",
      "Epoch 7/250\n",
      "3333/3333 [==============================] - 1s 285us/step - loss: 0.4183 - acc: 0.8551\n",
      "Epoch 8/250\n",
      "3333/3333 [==============================] - 1s 291us/step - loss: 0.4191 - acc: 0.8551\n",
      "Epoch 9/250\n",
      "3333/3333 [==============================] - 1s 336us/step - loss: 0.4180 - acc: 0.8551\n",
      "Epoch 10/250\n",
      "3333/3333 [==============================] - 1s 403us/step - loss: 0.4176 - acc: 0.8551\n",
      "Epoch 11/250\n",
      "3333/3333 [==============================] - 1s 375us/step - loss: 0.4175 - acc: 0.8551\n",
      "Epoch 12/250\n",
      "3333/3333 [==============================] - 1s 329us/step - loss: 0.4178 - acc: 0.8551\n",
      "Epoch 13/250\n",
      "3333/3333 [==============================] - 1s 322us/step - loss: 0.4175 - acc: 0.8551\n",
      "Epoch 14/250\n",
      "3333/3333 [==============================] - 1s 321us/step - loss: 0.4177 - acc: 0.8551\n",
      "Epoch 15/250\n",
      "3333/3333 [==============================] - 1s 326us/step - loss: 0.4162 - acc: 0.8551\n",
      "Epoch 16/250\n",
      "3333/3333 [==============================] - 1s 320us/step - loss: 0.4173 - acc: 0.8551\n",
      "Epoch 17/250\n",
      "3333/3333 [==============================] - 1s 359us/step - loss: 0.4179 - acc: 0.8551\n",
      "Epoch 18/250\n",
      "3333/3333 [==============================] - 1s 317us/step - loss: 0.4168 - acc: 0.8551\n",
      "Epoch 19/250\n",
      "3333/3333 [==============================] - 1s 323us/step - loss: 0.4175 - acc: 0.8551\n",
      "Epoch 20/250\n",
      "3333/3333 [==============================] - 1s 310us/step - loss: 0.4159 - acc: 0.8551\n",
      "Epoch 21/250\n",
      "3333/3333 [==============================] - 1s 364us/step - loss: 0.4165 - acc: 0.8551\n",
      "Epoch 22/250\n",
      "3333/3333 [==============================] - 1s 347us/step - loss: 0.4163 - acc: 0.8551\n",
      "Epoch 23/250\n",
      "3333/3333 [==============================] - 1s 339us/step - loss: 0.4162 - acc: 0.8551\n",
      "Epoch 24/250\n",
      "3333/3333 [==============================] - 1s 354us/step - loss: 0.4168 - acc: 0.8551\n",
      "Epoch 25/250\n",
      "3333/3333 [==============================] - 1s 308us/step - loss: 0.4161 - acc: 0.8551\n",
      "Epoch 26/250\n",
      "3333/3333 [==============================] - 1s 356us/step - loss: 0.4163 - acc: 0.8551\n",
      "Epoch 27/250\n",
      "3333/3333 [==============================] - 1s 358us/step - loss: 0.4162 - acc: 0.8551\n",
      "Epoch 28/250\n",
      "3333/3333 [==============================] - 1s 341us/step - loss: 0.4161 - acc: 0.8551\n",
      "Epoch 29/250\n",
      "3333/3333 [==============================] - 1s 391us/step - loss: 0.4157 - acc: 0.8551\n",
      "Epoch 30/250\n",
      "3333/3333 [==============================] - 1s 367us/step - loss: 0.4157 - acc: 0.8551\n",
      "Epoch 31/250\n",
      "3333/3333 [==============================] - 1s 359us/step - loss: 0.4160 - acc: 0.8551\n",
      "Epoch 32/250\n",
      "3333/3333 [==============================] - 1s 361us/step - loss: 0.4156 - acc: 0.8551\n",
      "Epoch 33/250\n",
      "3333/3333 [==============================] - 1s 349us/step - loss: 0.4154 - acc: 0.8551\n",
      "Epoch 34/250\n",
      "3333/3333 [==============================] - 1s 386us/step - loss: 0.4155 - acc: 0.8551\n",
      "Epoch 35/250\n",
      "3333/3333 [==============================] - 1s 360us/step - loss: 0.4154 - acc: 0.8551\n",
      "Epoch 36/250\n",
      "3333/3333 [==============================] - 1s 379us/step - loss: 0.4155 - acc: 0.8551\n",
      "Epoch 37/250\n",
      "3333/3333 [==============================] - 2s 528us/step - loss: 0.4159 - acc: 0.8551\n",
      "Epoch 38/250\n",
      "3333/3333 [==============================] - 1s 401us/step - loss: 0.4154 - acc: 0.8551\n",
      "Epoch 39/250\n",
      "3333/3333 [==============================] - 1s 235us/step - loss: 0.4155 - acc: 0.8551\n",
      "Epoch 40/250\n",
      "3333/3333 [==============================] - 1s 311us/step - loss: 0.4153 - acc: 0.8551\n",
      "Epoch 41/250\n",
      "3333/3333 [==============================] - 1s 413us/step - loss: 0.4148 - acc: 0.8551\n",
      "Epoch 42/250\n",
      "3333/3333 [==============================] - 1s 279us/step - loss: 0.4151 - acc: 0.8551\n",
      "Epoch 43/250\n",
      "3333/3333 [==============================] - 1s 380us/step - loss: 0.4155 - acc: 0.8551\n",
      "Epoch 44/250\n",
      "3333/3333 [==============================] - 1s 357us/step - loss: 0.4154 - acc: 0.8551\n",
      "Epoch 45/250\n",
      "3333/3333 [==============================] - 1s 386us/step - loss: 0.4151 - acc: 0.8551\n",
      "Epoch 46/250\n",
      "3333/3333 [==============================] - 2s 517us/step - loss: 0.4150 - acc: 0.8551\n",
      "Epoch 47/250\n",
      "3333/3333 [==============================] - 2s 488us/step - loss: 0.4151 - acc: 0.8551\n",
      "Epoch 48/250\n",
      "3333/3333 [==============================] - 2s 470us/step - loss: 0.4147 - acc: 0.8551\n",
      "Epoch 49/250\n",
      "3333/3333 [==============================] - 1s 310us/step - loss: 0.4147 - acc: 0.8551\n",
      "Epoch 50/250\n",
      "3333/3333 [==============================] - 1s 364us/step - loss: 0.4146 - acc: 0.8551\n",
      "Epoch 51/250\n",
      "3333/3333 [==============================] - 1s 327us/step - loss: 0.4147 - acc: 0.8551\n",
      "Epoch 52/250\n",
      "3333/3333 [==============================] - 1s 425us/step - loss: 0.4151 - acc: 0.8551\n",
      "Epoch 53/250\n",
      "3333/3333 [==============================] - 1s 328us/step - loss: 0.4139 - acc: 0.8551\n",
      "Epoch 54/250\n",
      "3333/3333 [==============================] - 1s 389us/step - loss: 0.4146 - acc: 0.8551\n",
      "Epoch 55/250\n",
      "3333/3333 [==============================] - 1s 307us/step - loss: 0.4147 - acc: 0.8551\n",
      "Epoch 56/250\n",
      "3333/3333 [==============================] - 1s 363us/step - loss: 0.4140 - acc: 0.8551\n",
      "Epoch 57/250\n",
      "3333/3333 [==============================] - 1s 326us/step - loss: 0.4149 - acc: 0.8551\n",
      "Epoch 58/250\n",
      "3333/3333 [==============================] - 1s 335us/step - loss: 0.4141 - acc: 0.8551\n",
      "Epoch 59/250\n",
      "3333/3333 [==============================] - 1s 319us/step - loss: 0.4149 - acc: 0.8551\n",
      "Epoch 60/250\n",
      "3333/3333 [==============================] - 1s 426us/step - loss: 0.4149 - acc: 0.8551\n",
      "Epoch 61/250\n",
      "3333/3333 [==============================] - 1s 390us/step - loss: 0.4147 - acc: 0.8551\n",
      "Epoch 62/250\n",
      "3333/3333 [==============================] - 1s 296us/step - loss: 0.4146 - acc: 0.8551\n",
      "Epoch 63/250\n",
      "3333/3333 [==============================] - 1s 419us/step - loss: 0.4142 - acc: 0.8551\n",
      "Epoch 64/250\n",
      "3333/3333 [==============================] - 1s 330us/step - loss: 0.4150 - acc: 0.8551\n",
      "Epoch 65/250\n",
      "3333/3333 [==============================] - 1s 357us/step - loss: 0.4147 - acc: 0.8551\n",
      "Epoch 66/250\n",
      "3333/3333 [==============================] - 1s 423us/step - loss: 0.4146 - acc: 0.8551\n",
      "Epoch 67/250\n",
      "3333/3333 [==============================] - 1s 340us/step - loss: 0.4142 - acc: 0.8551\n",
      "Epoch 68/250\n",
      "3333/3333 [==============================] - 1s 301us/step - loss: 0.4150 - acc: 0.8551\n",
      "Epoch 69/250\n",
      "3333/3333 [==============================] - 1s 326us/step - loss: 0.4147 - acc: 0.8551\n",
      "Epoch 70/250\n",
      "3333/3333 [==============================] - 1s 329us/step - loss: 0.4146 - acc: 0.8551\n",
      "Epoch 71/250\n",
      "3333/3333 [==============================] - 1s 357us/step - loss: 0.4144 - acc: 0.8551\n",
      "Epoch 72/250\n",
      "3333/3333 [==============================] - 1s 407us/step - loss: 0.4143 - acc: 0.8551\n",
      "Epoch 73/250\n",
      "3333/3333 [==============================] - 1s 301us/step - loss: 0.4143 - acc: 0.8551\n",
      "Epoch 74/250\n",
      "3333/3333 [==============================] - 1s 348us/step - loss: 0.4148 - acc: 0.8551\n",
      "Epoch 75/250\n",
      "3333/3333 [==============================] - 1s 331us/step - loss: 0.4147 - acc: 0.8551\n",
      "Epoch 76/250\n",
      "3333/3333 [==============================] - 1s 345us/step - loss: 0.4141 - acc: 0.8551\n",
      "Epoch 77/250\n",
      "3333/3333 [==============================] - 1s 312us/step - loss: 0.4142 - acc: 0.8551\n",
      "Epoch 78/250\n",
      "3333/3333 [==============================] - 1s 335us/step - loss: 0.4143 - acc: 0.8551\n",
      "Epoch 79/250\n",
      "3333/3333 [==============================] - 1s 311us/step - loss: 0.4145 - acc: 0.8551\n",
      "Epoch 80/250\n",
      "3333/3333 [==============================] - 1s 272us/step - loss: 0.4142 - acc: 0.8551\n",
      "Epoch 81/250\n",
      "3333/3333 [==============================] - 1s 320us/step - loss: 0.4144 - acc: 0.8551\n",
      "Epoch 82/250\n",
      "3333/3333 [==============================] - 1s 313us/step - loss: 0.4146 - acc: 0.8551\n",
      "Epoch 83/250\n",
      "3333/3333 [==============================] - 1s 293us/step - loss: 0.4143 - acc: 0.8551\n",
      "Epoch 84/250\n",
      "3333/3333 [==============================] - 1s 291us/step - loss: 0.4142 - acc: 0.8551\n",
      "Epoch 85/250\n",
      "3333/3333 [==============================] - 1s 285us/step - loss: 0.4138 - acc: 0.8551\n",
      "Epoch 86/250\n",
      "3333/3333 [==============================] - 1s 269us/step - loss: 0.4146 - acc: 0.8551\n",
      "Epoch 87/250\n",
      "3333/3333 [==============================] - 1s 402us/step - loss: 0.4139 - acc: 0.8551\n",
      "Epoch 88/250\n",
      "3333/3333 [==============================] - 1s 355us/step - loss: 0.4143 - acc: 0.8551\n",
      "Epoch 89/250\n",
      "3333/3333 [==============================] - 1s 288us/step - loss: 0.4143 - acc: 0.8551\n",
      "Epoch 90/250\n",
      "3333/3333 [==============================] - 1s 333us/step - loss: 0.4143 - acc: 0.8551\n",
      "Epoch 91/250\n",
      "3333/3333 [==============================] - 1s 389us/step - loss: 0.4141 - acc: 0.8551\n",
      "Epoch 92/250\n",
      "3333/3333 [==============================] - 1s 305us/step - loss: 0.4142 - acc: 0.8551\n",
      "Epoch 93/250\n",
      "3333/3333 [==============================] - 1s 318us/step - loss: 0.4143 - acc: 0.8551\n",
      "Epoch 94/250\n",
      "3333/3333 [==============================] - 1s 338us/step - loss: 0.4142 - acc: 0.8551\n",
      "Epoch 95/250\n",
      "3333/3333 [==============================] - 1s 427us/step - loss: 0.4141 - acc: 0.8551\n",
      "Epoch 96/250\n",
      "3333/3333 [==============================] - 1s 321us/step - loss: 0.4146 - acc: 0.8551\n",
      "Epoch 97/250\n",
      "3333/3333 [==============================] - 1s 334us/step - loss: 0.4142 - acc: 0.8551\n",
      "Epoch 98/250\n",
      "3333/3333 [==============================] - 1s 309us/step - loss: 0.4140 - acc: 0.8551\n",
      "Epoch 99/250\n",
      "3333/3333 [==============================] - 1s 349us/step - loss: 0.4141 - acc: 0.8551\n",
      "Epoch 100/250\n",
      "3333/3333 [==============================] - 1s 341us/step - loss: 0.4142 - acc: 0.8551\n",
      "Epoch 101/250\n",
      "3333/3333 [==============================] - 1s 345us/step - loss: 0.4138 - acc: 0.8551\n",
      "Epoch 102/250\n",
      "3333/3333 [==============================] - 1s 393us/step - loss: 0.4147 - acc: 0.8551\n",
      "Epoch 103/250\n",
      "3333/3333 [==============================] - 1s 350us/step - loss: 0.4141 - acc: 0.8551\n",
      "Epoch 104/250\n",
      "3333/3333 [==============================] - 1s 349us/step - loss: 0.4143 - acc: 0.8551\n",
      "Epoch 105/250\n",
      "3333/3333 [==============================] - 1s 407us/step - loss: 0.4142 - acc: 0.8551\n",
      "Epoch 106/250\n",
      "3333/3333 [==============================] - 1s 356us/step - loss: 0.4143 - acc: 0.8551\n",
      "Epoch 107/250\n",
      "3333/3333 [==============================] - 1s 393us/step - loss: 0.4141 - acc: 0.8551\n",
      "Epoch 108/250\n",
      "3333/3333 [==============================] - 1s 402us/step - loss: 0.4131 - acc: 0.8551\n",
      "Epoch 109/250\n",
      "2320/3333 [===================>..........] - ETA: 0s - loss: 0.4080 - acc: 0.8591"
     ]
    },
    {
     "ename": "KeyboardInterrupt",
     "evalue": "",
     "output_type": "error",
     "traceback": [
      "\u001b[0;31m---------------------------------------------------------------------------\u001b[0m",
      "\u001b[0;31mKeyboardInterrupt\u001b[0m                         Traceback (most recent call last)",
      "\u001b[0;32m<ipython-input-22-0f3b59ee18b2>\u001b[0m in \u001b[0;36m<module>\u001b[0;34m\u001b[0m\n\u001b[0;32m----> 1\u001b[0;31m \u001b[0mhistory\u001b[0m \u001b[0;34m=\u001b[0m \u001b[0mclf\u001b[0m\u001b[0;34m.\u001b[0m\u001b[0mfit\u001b[0m\u001b[0;34m(\u001b[0m\u001b[0mX\u001b[0m\u001b[0;34m,\u001b[0m\u001b[0mY\u001b[0m\u001b[0;34m,\u001b[0m\u001b[0mbatch_size\u001b[0m\u001b[0;34m=\u001b[0m\u001b[0;36m20\u001b[0m\u001b[0;34m,\u001b[0m\u001b[0mepochs\u001b[0m\u001b[0;34m=\u001b[0m\u001b[0;36m250\u001b[0m\u001b[0;34m)\u001b[0m\u001b[0;34m\u001b[0m\u001b[0;34m\u001b[0m\u001b[0m\n\u001b[0m\u001b[1;32m      2\u001b[0m \u001b[0mclf\u001b[0m\u001b[0;34m.\u001b[0m\u001b[0msave\u001b[0m\u001b[0;34m(\u001b[0m\u001b[0;34m'model.h5'\u001b[0m\u001b[0;34m)\u001b[0m\u001b[0;34m\u001b[0m\u001b[0;34m\u001b[0m\u001b[0m\n",
      "\u001b[0;32m~/anaconda3/lib/python3.7/site-packages/keras/engine/training.py\u001b[0m in \u001b[0;36mfit\u001b[0;34m(self, x, y, batch_size, epochs, verbose, callbacks, validation_split, validation_data, shuffle, class_weight, sample_weight, initial_epoch, steps_per_epoch, validation_steps, **kwargs)\u001b[0m\n\u001b[1;32m   1037\u001b[0m                                         \u001b[0minitial_epoch\u001b[0m\u001b[0;34m=\u001b[0m\u001b[0minitial_epoch\u001b[0m\u001b[0;34m,\u001b[0m\u001b[0;34m\u001b[0m\u001b[0;34m\u001b[0m\u001b[0m\n\u001b[1;32m   1038\u001b[0m                                         \u001b[0msteps_per_epoch\u001b[0m\u001b[0;34m=\u001b[0m\u001b[0msteps_per_epoch\u001b[0m\u001b[0;34m,\u001b[0m\u001b[0;34m\u001b[0m\u001b[0;34m\u001b[0m\u001b[0m\n\u001b[0;32m-> 1039\u001b[0;31m                                         validation_steps=validation_steps)\n\u001b[0m\u001b[1;32m   1040\u001b[0m \u001b[0;34m\u001b[0m\u001b[0m\n\u001b[1;32m   1041\u001b[0m     def evaluate(self, x=None, y=None,\n",
      "\u001b[0;32m~/anaconda3/lib/python3.7/site-packages/keras/engine/training_arrays.py\u001b[0m in \u001b[0;36mfit_loop\u001b[0;34m(model, f, ins, out_labels, batch_size, epochs, verbose, callbacks, val_f, val_ins, shuffle, callback_metrics, initial_epoch, steps_per_epoch, validation_steps)\u001b[0m\n\u001b[1;32m    197\u001b[0m                     \u001b[0mins_batch\u001b[0m\u001b[0;34m[\u001b[0m\u001b[0mi\u001b[0m\u001b[0;34m]\u001b[0m \u001b[0;34m=\u001b[0m \u001b[0mins_batch\u001b[0m\u001b[0;34m[\u001b[0m\u001b[0mi\u001b[0m\u001b[0;34m]\u001b[0m\u001b[0;34m.\u001b[0m\u001b[0mtoarray\u001b[0m\u001b[0;34m(\u001b[0m\u001b[0;34m)\u001b[0m\u001b[0;34m\u001b[0m\u001b[0;34m\u001b[0m\u001b[0m\n\u001b[1;32m    198\u001b[0m \u001b[0;34m\u001b[0m\u001b[0m\n\u001b[0;32m--> 199\u001b[0;31m                 \u001b[0mouts\u001b[0m \u001b[0;34m=\u001b[0m \u001b[0mf\u001b[0m\u001b[0;34m(\u001b[0m\u001b[0mins_batch\u001b[0m\u001b[0;34m)\u001b[0m\u001b[0;34m\u001b[0m\u001b[0;34m\u001b[0m\u001b[0m\n\u001b[0m\u001b[1;32m    200\u001b[0m                 \u001b[0mouts\u001b[0m \u001b[0;34m=\u001b[0m \u001b[0mto_list\u001b[0m\u001b[0;34m(\u001b[0m\u001b[0mouts\u001b[0m\u001b[0;34m)\u001b[0m\u001b[0;34m\u001b[0m\u001b[0;34m\u001b[0m\u001b[0m\n\u001b[1;32m    201\u001b[0m                 \u001b[0;32mfor\u001b[0m \u001b[0ml\u001b[0m\u001b[0;34m,\u001b[0m \u001b[0mo\u001b[0m \u001b[0;32min\u001b[0m \u001b[0mzip\u001b[0m\u001b[0;34m(\u001b[0m\u001b[0mout_labels\u001b[0m\u001b[0;34m,\u001b[0m \u001b[0mouts\u001b[0m\u001b[0;34m)\u001b[0m\u001b[0;34m:\u001b[0m\u001b[0;34m\u001b[0m\u001b[0;34m\u001b[0m\u001b[0m\n",
      "\u001b[0;32m~/anaconda3/lib/python3.7/site-packages/keras/backend/tensorflow_backend.py\u001b[0m in \u001b[0;36m__call__\u001b[0;34m(self, inputs)\u001b[0m\n\u001b[1;32m   2713\u001b[0m                 \u001b[0;32mreturn\u001b[0m \u001b[0mself\u001b[0m\u001b[0;34m.\u001b[0m\u001b[0m_legacy_call\u001b[0m\u001b[0;34m(\u001b[0m\u001b[0minputs\u001b[0m\u001b[0;34m)\u001b[0m\u001b[0;34m\u001b[0m\u001b[0;34m\u001b[0m\u001b[0m\n\u001b[1;32m   2714\u001b[0m \u001b[0;34m\u001b[0m\u001b[0m\n\u001b[0;32m-> 2715\u001b[0;31m             \u001b[0;32mreturn\u001b[0m \u001b[0mself\u001b[0m\u001b[0;34m.\u001b[0m\u001b[0m_call\u001b[0m\u001b[0;34m(\u001b[0m\u001b[0minputs\u001b[0m\u001b[0;34m)\u001b[0m\u001b[0;34m\u001b[0m\u001b[0;34m\u001b[0m\u001b[0m\n\u001b[0m\u001b[1;32m   2716\u001b[0m         \u001b[0;32melse\u001b[0m\u001b[0;34m:\u001b[0m\u001b[0;34m\u001b[0m\u001b[0;34m\u001b[0m\u001b[0m\n\u001b[1;32m   2717\u001b[0m             \u001b[0;32mif\u001b[0m \u001b[0mpy_any\u001b[0m\u001b[0;34m(\u001b[0m\u001b[0mis_tensor\u001b[0m\u001b[0;34m(\u001b[0m\u001b[0mx\u001b[0m\u001b[0;34m)\u001b[0m \u001b[0;32mfor\u001b[0m \u001b[0mx\u001b[0m \u001b[0;32min\u001b[0m \u001b[0minputs\u001b[0m\u001b[0;34m)\u001b[0m\u001b[0;34m:\u001b[0m\u001b[0;34m\u001b[0m\u001b[0;34m\u001b[0m\u001b[0m\n",
      "\u001b[0;32m~/anaconda3/lib/python3.7/site-packages/keras/backend/tensorflow_backend.py\u001b[0m in \u001b[0;36m_call\u001b[0;34m(self, inputs)\u001b[0m\n\u001b[1;32m   2673\u001b[0m             \u001b[0mfetched\u001b[0m \u001b[0;34m=\u001b[0m \u001b[0mself\u001b[0m\u001b[0;34m.\u001b[0m\u001b[0m_callable_fn\u001b[0m\u001b[0;34m(\u001b[0m\u001b[0;34m*\u001b[0m\u001b[0marray_vals\u001b[0m\u001b[0;34m,\u001b[0m \u001b[0mrun_metadata\u001b[0m\u001b[0;34m=\u001b[0m\u001b[0mself\u001b[0m\u001b[0;34m.\u001b[0m\u001b[0mrun_metadata\u001b[0m\u001b[0;34m)\u001b[0m\u001b[0;34m\u001b[0m\u001b[0;34m\u001b[0m\u001b[0m\n\u001b[1;32m   2674\u001b[0m         \u001b[0;32melse\u001b[0m\u001b[0;34m:\u001b[0m\u001b[0;34m\u001b[0m\u001b[0;34m\u001b[0m\u001b[0m\n\u001b[0;32m-> 2675\u001b[0;31m             \u001b[0mfetched\u001b[0m \u001b[0;34m=\u001b[0m \u001b[0mself\u001b[0m\u001b[0;34m.\u001b[0m\u001b[0m_callable_fn\u001b[0m\u001b[0;34m(\u001b[0m\u001b[0;34m*\u001b[0m\u001b[0marray_vals\u001b[0m\u001b[0;34m)\u001b[0m\u001b[0;34m\u001b[0m\u001b[0;34m\u001b[0m\u001b[0m\n\u001b[0m\u001b[1;32m   2676\u001b[0m         \u001b[0;32mreturn\u001b[0m \u001b[0mfetched\u001b[0m\u001b[0;34m[\u001b[0m\u001b[0;34m:\u001b[0m\u001b[0mlen\u001b[0m\u001b[0;34m(\u001b[0m\u001b[0mself\u001b[0m\u001b[0;34m.\u001b[0m\u001b[0moutputs\u001b[0m\u001b[0;34m)\u001b[0m\u001b[0;34m]\u001b[0m\u001b[0;34m\u001b[0m\u001b[0;34m\u001b[0m\u001b[0m\n\u001b[1;32m   2677\u001b[0m \u001b[0;34m\u001b[0m\u001b[0m\n",
      "\u001b[0;32m~/anaconda3/lib/python3.7/site-packages/tensorflow/python/client/session.py\u001b[0m in \u001b[0;36m__call__\u001b[0;34m(self, *args, **kwargs)\u001b[0m\n\u001b[1;32m   1456\u001b[0m         ret = tf_session.TF_SessionRunCallable(self._session._session,\n\u001b[1;32m   1457\u001b[0m                                                \u001b[0mself\u001b[0m\u001b[0;34m.\u001b[0m\u001b[0m_handle\u001b[0m\u001b[0;34m,\u001b[0m \u001b[0margs\u001b[0m\u001b[0;34m,\u001b[0m\u001b[0;34m\u001b[0m\u001b[0;34m\u001b[0m\u001b[0m\n\u001b[0;32m-> 1458\u001b[0;31m                                                run_metadata_ptr)\n\u001b[0m\u001b[1;32m   1459\u001b[0m         \u001b[0;32mif\u001b[0m \u001b[0mrun_metadata\u001b[0m\u001b[0;34m:\u001b[0m\u001b[0;34m\u001b[0m\u001b[0;34m\u001b[0m\u001b[0m\n\u001b[1;32m   1460\u001b[0m           \u001b[0mproto_data\u001b[0m \u001b[0;34m=\u001b[0m \u001b[0mtf_session\u001b[0m\u001b[0;34m.\u001b[0m\u001b[0mTF_GetBuffer\u001b[0m\u001b[0;34m(\u001b[0m\u001b[0mrun_metadata_ptr\u001b[0m\u001b[0;34m)\u001b[0m\u001b[0;34m\u001b[0m\u001b[0;34m\u001b[0m\u001b[0m\n",
      "\u001b[0;31mKeyboardInterrupt\u001b[0m: "
     ]
    }
   ],
   "source": [
    "history = clf.fit(X,Y,batch_size=20,epochs=250)\n",
    "clf.save('model.h5')"
   ]
  }
 ],
 "metadata": {
  "kernelspec": {
   "display_name": "Python 3",
   "language": "python",
   "name": "python3"
  },
  "language_info": {
   "codemirror_mode": {
    "name": "ipython",
    "version": 3
   },
   "file_extension": ".py",
   "mimetype": "text/x-python",
   "name": "python",
   "nbconvert_exporter": "python",
   "pygments_lexer": "ipython3",
   "version": "3.7.3"
  }
 },
 "nbformat": 4,
 "nbformat_minor": 2
}
